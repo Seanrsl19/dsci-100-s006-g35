{
 "cells": [
  {
   "cell_type": "markdown",
   "id": "8a605044-a4e4-4cb4-b589-214ed2fec3a8",
   "metadata": {},
   "source": [
    "Younghoon Kim 11371317 <br>\n",
    "Kentaro Barnes 49524861 <br>\n",
    "Sean Liou 86967916 <br>\n",
    "Matthew Pabustan 48718266"
   ]
  }
 ],
 "metadata": {
  "kernelspec": {
   "display_name": "R",
   "language": "R",
   "name": "ir"
  },
  "language_info": {
   "codemirror_mode": "r",
   "file_extension": ".r",
   "mimetype": "text/x-r-source",
   "name": "R",
   "pygments_lexer": "r",
   "version": "4.3.3"
  }
 },
 "nbformat": 4,
 "nbformat_minor": 5
}
