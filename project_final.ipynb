{
 "cells": [
  {
   "cell_type": "markdown",
   "id": "6d677331-ae96-4b66-95be-cc15dfd865ec",
   "metadata": {},
   "source": [
    "### DSCI100 Group 006-35 W2 Final Project"
   ]
  },
  {
   "cell_type": "markdown",
   "id": "8a605044-a4e4-4cb4-b589-214ed2fec3a8",
   "metadata": {},
   "source": [
    "Younghoon Kim 11371317 <br>\n",
    "Kentaro Barnes 49524861 <br>\n",
    "Sean Liou 86967916 <br>\n",
    "Matthew Pabustan 48718266 <br>"
   ]
  },
  {
   "cell_type": "markdown",
   "id": "ee9253fa-9784-40d4-b353-242f3c907d1e",
   "metadata": {},
   "source": [
    "## How does player experience level and age influence the total number of hours played?"
   ]
  },
  {
   "cell_type": "code",
   "execution_count": null,
   "id": "99d3e2e0-afaf-4dd0-adde-b06c42e8b25b",
   "metadata": {},
   "outputs": [],
   "source": []
  }
 ],
 "metadata": {
  "kernelspec": {
   "display_name": "R",
   "language": "R",
   "name": "ir"
  },
  "language_info": {
   "codemirror_mode": "r",
   "file_extension": ".r",
   "mimetype": "text/x-r-source",
   "name": "R",
   "pygments_lexer": "r",
   "version": "4.3.3"
  }
 },
 "nbformat": 4,
 "nbformat_minor": 5
}
