{
 "cells": [
  {
   "cell_type": "markdown",
   "id": "6d677331-ae96-4b66-95be-cc15dfd865ec",
   "metadata": {},
   "source": [
    "### DSCI100 Group 006-35 W2 Final Project"
   ]
  },
  {
   "cell_type": "markdown",
   "id": "8a605044-a4e4-4cb4-b589-214ed2fec3a8",
   "metadata": {},
   "source": [
    "Younghoon Kim 11371317 <br>\n",
    "Kentaro Barnes 49524861 <br>\n",
    "Sean Liou 86967916 <br>\n",
    "Matthew Pabustan 48718266 <br>"
   ]
  },
  {
   "cell_type": "markdown",
   "id": "ee9253fa-9784-40d4-b353-242f3c907d1e",
   "metadata": {},
   "source": [
    "## How does player experience level and age influence the total number of hours played?"
   ]
  },
  {
   "cell_type": "markdown",
   "id": "222a7767-c9cc-498f-a0e0-55af9471f338",
   "metadata": {},
   "source": [
    "## Datasets\n",
    "### players.csv overview\n",
    "A list of 196 unique participants who played on the minecraft server hosted for a scientific study with the following information for each player:\n",
    "##### experience\n",
    "- Originally a character `<chr>` variable, converted to factor `<fct>` containing one of the following:\n",
    "    - Beginner (35)\n",
    "    - Regular (36)\n",
    "    - Amateur (63)  \n",
    "    - Veteran (48)\n",
    "    - Pro (14)\n",
    "- Represents a player's self-reported experience in the game.\n",
    "##### subscribe\n",
    "- a logical `<lgl>` variable where TRUE indicates that the player is subscribed to the game-related newsletter, and FALSE indicates that the player has not\n",
    "    - 144 players reported TRUE, 52 reported FALSE.\n",
    "##### hashedEmail\n",
    "- a string of characters `<chr>` that acts as a unique id to identify players in sessions.csv\n",
    "##### played_hours\n",
    "- A double `<dbl>` variable, indicating the number of hours a participant has spent playing on the server.\n",
    "    - On average, each player spends a total of 5.85 hours.\n",
    "##### name\n",
    "- A character `<chr`> variable containing the player's real (first) name.\n",
    "##### gender\n",
    "- Originally a character `<chr>` variable, converted to factor `<fct>` containing one of the following:\n",
    "    - Male (124)\n",
    "    - Female (37)\n",
    "    - Non-binary (15)\n",
    "    - Prefer not to say (11)\n",
    "    - Agender (2)\n",
    "    - Two-Spirited (6)\n",
    "    - Other (1)\n",
    "- Represents a player's gender\n",
    "##### Age\n",
    "- A double `<dbl>` variable, indicating the age of the player in years.\n",
    "    - On average, the players are 20.52 years old.\n",
    "    - Two rows/players contain missing Age data, and thus is removed from the list.\n",
    "\n",
    "### sessions.csv overview\n",
    "A catalogue of all 1535 instances where a player logs into the server with the following information for each instance.\n",
    "##### hashedEmail\n",
    "- a string of characters `<chr>` indicating which unique player that logged on, allowing us to track session information along with personal information in players.csv.\n",
    "##### start_time\n",
    "- Originally a string of characters `<chr>` indicating the time (Day/Month/Year Hour:Minute) when the player logs ON\n",
    "    - Converted to a date-time `<ddtm>` variable for ease of use.\n",
    "##### end_time\n",
    "- Originally a string of characters `<chr>` indicating the time (Day/Month/Year Hour:Minute) when the player logs OFF\n",
    "    - Converted to a date-time `<ddtm>` variable for ease of use.\n",
    "##### original_start_time\n",
    "- A double `<dbl>` variable that represents the time a player logs ON, in number of milliseconds since 1970.\n",
    "    - Not reported to high enough precision for comparison, and thus is removed.\n",
    "##### original_end_time\n",
    "- A double `<dbl>` variable that represents the time a player logs OFF, in number of milliseconds since 1970.\n",
    "    - Not reported to high enough precision for comparison, and thus is removed.\n",
    "\n"
   ]
  },
  {
   "cell_type": "code",
   "execution_count": null,
   "id": "99d3e2e0-afaf-4dd0-adde-b06c42e8b25b",
   "metadata": {},
   "outputs": [],
   "source": [
    "# Load necessary libraries\n",
    "library(tidyverse)\n",
    "library(repr)\n",
    "library(tidymodels)\n",
    "library(cowplot)\n",
    "options(repr.matrix.max.rows = 6)"
   ]
  },
  {
   "cell_type": "code",
   "execution_count": null,
   "id": "2f28c755-dc48-4b8e-a6b7-2ed007cd0081",
   "metadata": {},
   "outputs": [],
   "source": [
    "# Reading the data\n",
    "\n",
    "# URL to the csv files stored on github\n",
    "players_url <- \"https://raw.githubusercontent.com/KentoBaguetti/DSCI100-GroupProjcect/refs/heads/main/players.csv\"\n",
    "sessions_url <- \"https://raw.githubusercontent.com/KentoBaguetti/DSCI100-GroupProjcect/refs/heads/main/sessions.csv\"\n",
    "\n",
    "# read the csv data into dataframes\n",
    "players <- read_csv(players_url)\n",
    "sessions <- read_csv(sessions_url)\n",
    "\n",
    "players\n",
    "sessions"
   ]
  },
  {
   "cell_type": "code",
   "execution_count": null,
   "id": "1742f1fd-57ce-4959-85b1-7e7ebadc717f",
   "metadata": {},
   "outputs": [],
   "source": [
    "# Tidy the data\n",
    "tidy_players <- players |>\n",
    "    select(played_hours, experience, Age) |> # select the columns of interest\n",
    "    mutate(experience = as_factor(experience)) # mutate experience to be a factor\n",
    "\n",
    "tidy_players"
   ]
  },
  {
   "cell_type": "code",
   "execution_count": null,
   "id": "20d35b6c-7ae8-417f-aa20-896659ab7a84",
   "metadata": {},
   "outputs": [],
   "source": [
    "# Age vs Play time\n",
    "prepredict_plot <- tidy_players |>\n",
    "    ggplot(aes(x=Age, y=played_hours, color = experience)) +\n",
    "    geom_point() +\n",
    "    labs(title = \"Distribution of Playtime Across Experience Level and Age\",\n",
    "         x = \"Age (Years)\",\n",
    "         y = \"Total Hours Played (Hours)\",\n",
    "         color = \"Experience Level\")\n",
    "\n",
    "prepredict_plot"
   ]
  },
  {
   "cell_type": "code",
   "execution_count": null,
   "id": "a897d1c8-440e-45f5-9ff0-6d6fdde0fe40",
   "metadata": {},
   "outputs": [],
   "source": [
    "# use knn regression as a linear relationship is not present within the data\n",
    "\n",
    "knn_recipe <- recipe(played_hours ~ ., data = tidy_data) |>\n",
    "    \n"
   ]
  }
 ],
 "metadata": {
  "kernelspec": {
   "display_name": "R",
   "language": "R",
   "name": "ir"
  },
  "language_info": {
   "codemirror_mode": "r",
   "file_extension": ".r",
   "mimetype": "text/x-r-source",
   "name": "R",
   "pygments_lexer": "r",
   "version": "4.3.3"
  }
 },
 "nbformat": 4,
 "nbformat_minor": 5
}
