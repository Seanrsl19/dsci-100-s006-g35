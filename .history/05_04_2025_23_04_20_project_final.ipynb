{
 "cells": [
  {
   "cell_type": "markdown",
   "id": "6d677331-ae96-4b66-95be-cc15dfd865ec",
   "metadata": {},
   "source": [
    "### DSCI100 Group 006-35 W2 Final Project"
   ]
  },
  {
   "cell_type": "markdown",
   "id": "8a605044-a4e4-4cb4-b589-214ed2fec3a8",
   "metadata": {},
   "source": [
    "Younghoon Kim 11371317 <br>\n",
    "Kentaro Barnes 49524861 <br>\n",
    "Sean Liou 86967916 <br>\n",
    "Matthew Pabustan 48718266 <br>"
   ]
  },
  {
   "cell_type": "markdown",
   "id": "ee9253fa-9784-40d4-b353-242f3c907d1e",
   "metadata": {},
   "source": [
    "## How does player experience level and age influence the total number of hours played?"
   ]
  },
  {
   "cell_type": "markdown",
   "id": "996e9b89-d15c-4f4b-988c-fa38e08da98f",
   "metadata": {},
   "source": [
    "## Introduction\n",
    "\n",
    "Videogames are a valuable source of data for studying human behavior and online interaction. At the University of British Columbia, a research group led by Professor Frank Wood has created a Minecraft-based research server designed to collect such data. Here, players's actions are continuosly logged as they explore the game. That said, managig the server presents serverall logististical challenges. Namely, the research team must ensure that they have enough hardware and software resources to handle peak player loads, and must also prioritize recruitment of participants who are likely to contribute meaningful amounts of data.\n",
    "\n",
    "In this project, we investigate the relationship between player experience level, age, and the total number of hours played. Specifically, we aim to answer the question:\n",
    "**How does player experience level and age influence the total number of hours played?** We believe that understanding this relationship can help the research team better predict which players are likely to engage deeply with the server over time, enabling them to recruit more effectively and plan resources accordingly.\n",
    "\n",
    "To explore this question, we use the players.csv dataset which contains information about information about a variety of player demographics as well as each player's experience level, engagement with the server, and subscription status. We have also included the sessions.csv dataset, which contains informataion about individual players' sessions on the server, to support further analysis."
   ]
  },
  {
   "cell_type": "markdown",
   "id": "222a7767-c9cc-498f-a0e0-55af9471f338",
   "metadata": {},
   "source": [
    "## Datasets\n",
    "### players.csv overview\n",
    "A list of 196 unique participants who played on the minecraft server hosted for a scientific study with the following information for each player:\n",
    "##### experience\n",
    "- Originally a character `<chr>` variable, converted to factor `<fct>` containing one of the following:\n",
    "    - Beginner (35)\n",
    "    - Regular (36)\n",
    "    - Amateur (63)  \n",
    "    - Veteran (48)\n",
    "    - Pro (14)\n",
    "- Represents a player's self-reported experience in the game.\n",
    "##### subscribe\n",
    "- a logical `<lgl>` variable where TRUE indicates that the player is subscribed to the game-related newsletter, and FALSE indicates that the player has not\n",
    "    - 144 players reported TRUE, 52 reported FALSE.\n",
    "##### hashedEmail\n",
    "- a string of characters `<chr>` that acts as a unique id to identify players in sessions.csv\n",
    "##### played_hours\n",
    "- A double `<dbl>` variable, indicating the number of hours a participant has spent playing on the server.\n",
    "    - On average, each player spends a total of 5.85 hours.\n",
    "##### name\n",
    "- A character `<chr`> variable containing the player's real (first) name.\n",
    "##### gender\n",
    "- Originally a character `<chr>` variable, converted to factor `<fct>` containing one of the following:\n",
    "    - Male (124)\n",
    "    - Female (37)\n",
    "    - Non-binary (15)\n",
    "    - Prefer not to say (11)\n",
    "    - Agender (2)\n",
    "    - Two-Spirited (6)\n",
    "    - Other (1)\n",
    "- Represents a player's gender\n",
    "##### Age\n",
    "- A double `<dbl>` variable, indicating the age of the player in years.\n",
    "    - On average, the players are 20.52 years old.\n",
    "    - Two rows/players contain missing Age data, and thus is removed from the list.\n",
    "\n",
    "### sessions.csv overview\n",
    "A catalogue of all 1535 instances where a player logs into the server with the following information for each instance.\n",
    "##### hashedEmail\n",
    "- a string of characters `<chr>` indicating which unique player that logged on, allowing us to track session information along with personal information in players.csv.\n",
    "##### start_time\n",
    "- Originally a string of characters `<chr>` indicating the time (Day/Month/Year Hour:Minute) when the player logs ON\n",
    "    - Converted to a date-time `<ddtm>` variable for ease of use.\n",
    "##### end_time\n",
    "- Originally a string of characters `<chr>` indicating the time (Day/Month/Year Hour:Minute) when the player logs OFF\n",
    "    - Converted to a date-time `<ddtm>` variable for ease of use.\n",
    "##### original_start_time\n",
    "- A double `<dbl>` variable that represents the time a player logs ON, in number of milliseconds since 1970.\n",
    "    - Not reported to high enough precision for comparison, and thus is removed.\n",
    "##### original_end_time\n",
    "- A double `<dbl>` variable that represents the time a player logs OFF, in number of milliseconds since 1970.\n",
    "    - Not reported to high enough precision for comparison, and thus is removed.\n",
    "\n"
   ]
  },
  {
   "cell_type": "markdown",
   "id": "37b07be9-8aaa-47e9-95cc-8fdeabb36b94",
   "metadata": {},
   "source": [
    "## Methods\n",
    "\n",
    "#### Data Acquisition and Data Collection\n",
    "- Load necessary R libraries\n",
    "- Load the *players.csv* and *sessions.csv* stored on our GitHub\n",
    "\n",
    "#### Data Cleaning and Wrangling\n",
    "- Tidy the data to contain only the information we need\n",
    "- The players data set will be the main data set we use for our report\n",
    "- The three main varaibles we will work with are **experience**, **played_hours**, and **Age**\n",
    "- Select those three variables and mutate experience and create a new variable called **experience_numeric**, which is an ordinal version of the experience variable\n",
    "- Filter for played_hours values of less than 60 to get rid of any outliers\n",
    "Our **experience_numeric** variable maps: <br>\n",
    "| Experience   | experience_numeric |\n",
    "|--------|-----|\n",
    "| Beginner  | 1  |\n",
    "| Amateur    | 2  |\n",
    "| Regular  | 3  |\n",
    "| Veteran  | 4  |\n",
    "| Pro    | 5  |"
   ]
  },
  {
   "cell_type": "code",
   "execution_count": null,
   "id": "99d3e2e0-afaf-4dd0-adde-b06c42e8b25b",
   "metadata": {},
   "outputs": [],
   "source": [
    "# Load necessary libraries\n",
    "library(tidyverse)\n",
    "library(repr)\n",
    "library(tidymodels)\n",
    "library(cowplot)\n",
    "options(repr.matrix.max.rows = 6)\n",
    "\n",
    "set.seed(69420)"
   ]
  },
  {
   "cell_type": "code",
   "execution_count": null,
   "id": "2f28c755-dc48-4b8e-a6b7-2ed007cd0081",
   "metadata": {},
   "outputs": [],
   "source": [
    "# Reading the data\n",
    "\n",
    "# URL to the csv files stored on github\n",
    "players_url <- \"https://raw.githubusercontent.com/KentoBaguetti/DSCI100-GroupProjcect/refs/heads/main/players.csv\"\n",
    "sessions_url <- \"https://raw.githubusercontent.com/KentoBaguetti/DSCI100-GroupProjcect/refs/heads/main/sessions.csv\"\n",
    "\n",
    "# read the csv data into dataframes\n",
    "players <- read_csv(players_url)\n",
    "sessions <- read_csv(sessions_url)\n",
    "\n",
    "players\n",
    "sessions"
   ]
  },
  {
   "cell_type": "code",
   "execution_count": null,
   "id": "1742f1fd-57ce-4959-85b1-7e7ebadc717f",
   "metadata": {},
   "outputs": [],
   "source": [
    "# Tidy the data\n",
    "tidy_players <- players |>\n",
    "  mutate(\n",
    "    experience = factor(experience, levels = c(\"Beginner\", \"Amateur\", \"Regular\", \"Veteran\", \"Pro\"), ordered = TRUE), # Make the experience variable an ordinal\n",
    "    experience_numeric = as.numeric(experience)\n",
    "  ) |>\n",
    "    select(played_hours, experience_numeric, Age) |>\n",
    "    filter(played_hours < 60) |>\n",
    "    mutate(experience_numeric = as.integer(experience_numeric))\n",
    "\n",
    "tidy_players"
   ]
  },
  {
   "cell_type": "code",
   "execution_count": null,
   "id": "defc12b0-5eb6-4295-9791-54362dcfd7e1",
   "metadata": {},
   "outputs": [],
   "source": [
    "# Histogram for player age and experience distribution\n",
    "age_experience_dist <- tidy_players |>\n",
    "    ggplot(aes(x = Age, fill = experience_numeric)) +\n",
    "    geom_histogram"
   ]
  },
  {
   "cell_type": "code",
   "execution_count": null,
   "id": "20d35b6c-7ae8-417f-aa20-896659ab7a84",
   "metadata": {},
   "outputs": [],
   "source": [
    "# Age vs Play time\n",
    "prepredict_plot <- tidy_players |>\n",
    "    ggplot(aes(x=Age, y=played_hours, color = as.factor(experience_numeric))) +\n",
    "    geom_point() +\n",
    "    labs(x = \"Age (Years)\",\n",
    "         y = \"Total Hours Played (Hours)\",\n",
    "         color = \"Experience Level\") +\n",
    "    ggtitle(\"Distribution of Playtime Across Experience Level and Age (Figure 1)\") +\n",
    "    theme(text=element_text(size=15))\n",
    "\n",
    "prepredict_plot"
   ]
  },
  {
   "cell_type": "markdown",
   "id": "83fa57f0-98f5-4175-bd0b-ca3700035d9a",
   "metadata": {},
   "source": [
    "### Figure 1 ^^^\n",
    "A scatter plot of our tidy data, Total Hours vs Age, and Experience Level as the color before our predictions"
   ]
  },
  {
   "cell_type": "code",
   "execution_count": null,
   "id": "a897d1c8-440e-45f5-9ff0-6d6fdde0fe40",
   "metadata": {},
   "outputs": [],
   "source": [
    "# use knn regression as a linear relationship is not present within the data\n",
    "\n",
    "players_split <- initial_split(tidy_players, prop = 0.75, strata = played_hours)\n",
    "players_train <- training(players_split)\n",
    "players_test <- testing(players_split)\n",
    "\n",
    "knn_recipe <- recipe(played_hours ~ Age, data = tidy_players) |>\n",
    "    step_impute_mean(all_numeric_predictors()) |>\n",
    "    step_scale(all_predictors()) |>\n",
    "    step_center(all_predictors())\n",
    "\n",
    "knn_spec <- nearest_neighbor(weight_func = \"rectangular\", neighbors = tune()) |>\n",
    "    set_engine(\"kknn\") |>\n",
    "    set_mode(\"regression\")\n",
    "\n",
    "players_vfold <- vfold_cv(players_train, v = 5, strata = played_hours)\n",
    "\n",
    "players_wf <- workflow() |>\n",
    "    add_recipe(knn_recipe) |>\n",
    "    add_model(knn_spec) \n",
    "\n",
    "players_wf\n"
   ]
  },
  {
   "cell_type": "code",
   "execution_count": null,
   "id": "3c1494b4-0095-4fbc-98a0-5ae4abf29e98",
   "metadata": {},
   "outputs": [],
   "source": [
    "gridvals <- tibble(neighbors = seq(from = 1, to = 30, by = 1))\n",
    "\n",
    "players_results <- players_wf |>\n",
    "    tune_grid(resamples = players_vfold, grid = gridvals) |>\n",
    "    collect_metrics() |>\n",
    "    filter(.metric == \"rmse\")\n",
    "\n",
    "players_results\n",
    "\n",
    "rmse_plot <- players_results |>\n",
    "    ggplot(aes(x = neighbors, y = mean)) +\n",
    "    geom_line() +\n",
    "    geom_point() +\n",
    "    ggtitle(\"Mean vs Neighbors (Figure 2)\") + \n",
    "    xlab(\"K Neighbors\") +\n",
    "    ylab(\"Mean\") +\n",
    "    theme(text=element_text(size=15))\n",
    "\n",
    "rmse_plot"
   ]
  },
  {
   "cell_type": "markdown",
   "id": "2408d79f-141e-4c45-9b6e-c07de0825017",
   "metadata": {},
   "source": [
    "### Figure 2 ^^^\n",
    "Mean vs Neighbors plot to help us find the best number of neighbors to use for our prediction analysis."
   ]
  },
  {
   "cell_type": "code",
   "execution_count": null,
   "id": "1f5104f9-72e1-44f8-bd13-9e9fe736ca60",
   "metadata": {},
   "outputs": [],
   "source": [
    "min_neighbor <- players_results |>\n",
    "    filter(mean == min(mean))\n",
    "\n",
    "min_neighbor\n",
    "\n",
    "# lowest rmse is when k = 27\n",
    "\n",
    "k_min <- min_neighbor |>\n",
    "    pull(neighbors)\n",
    "\n",
    "k_min"
   ]
  },
  {
   "cell_type": "code",
   "execution_count": null,
   "id": "b5fe0b98-764b-49df-8692-61220f0bf5bb",
   "metadata": {},
   "outputs": [],
   "source": [
    "players_final_spec <- nearest_neighbor(weight_func = \"rectangular\", neighbors = k_min) |>\n",
    "    set_engine(\"kknn\") |>\n",
    "    set_mode(\"regression\")\n",
    "\n",
    "players_final_fit <- workflow() |>\n",
    "    add_recipe(knn_recipe) |>\n",
    "    add_model(players_final_spec) |>\n",
    "    fit(data = players_train)\n",
    "\n",
    "players_summary <- players_final_fit |>\n",
    "    predict(players_test) |>\n",
    "    bind_cols(players_test) |>\n",
    "    metrics(truth = played_hours, estimate = .pred) |>\n",
    "    filter(.metric == \"rmse\")\n",
    "\n",
    "players_summary"
   ]
  },
  {
   "cell_type": "code",
   "execution_count": null,
   "id": "782dbebe-42b5-4997-a0e6-097374980261",
   "metadata": {},
   "outputs": [],
   "source": [
    "players_prediction_grid <- expand_grid(\n",
    "  Age = seq(\n",
    "    from = min(tidy_players$Age, na.rm = TRUE),\n",
    "    to   = max(tidy_players$Age, na.rm = TRUE),\n",
    "    by = 1\n",
    "  ),\n",
    "  experience_numeric = 1:5 \n",
    ")\n",
    "\n",
    "players_pred <- players_final_fit |>\n",
    "    predict(players_prediction_grid)|>\n",
    "    bind_cols(players_prediction_grid)\n",
    "\n",
    "players_plot_final <- tidy_players |>\n",
    "    ggplot(aes(x = Age, y = played_hours, color = as.factor(experience_numeric))) +\n",
    "    geom_point(alpha = 0.4) +\n",
    "    geom_line(data = players_pred, mapping = aes(x = Age, y = .pred),\n",
    "            color = \"steelblue\",\n",
    "            linewidth = 1) +\n",
    "    xlab(\"Age of Users\") +\n",
    "    ylab(\"Number of Played Hours\") +\n",
    "    ggtitle(\"Predicted Player Hours vs Age of Users (Figure 3)\") +\n",
    "    labs(color = \"Experience (Factored)\") +\n",
    "    theme(text=element_text(size=15))\n",
    "\n",
    "players_plot_final"
   ]
  },
  {
   "cell_type": "markdown",
   "id": "92d2e487-951c-4088-a8cc-0f67073c9a57",
   "metadata": {},
   "source": [
    "### Figure 3 ^^^\n",
    "Scatter plot of our data with our predicted k nearest neighbors regression line"
   ]
  },
  {
   "cell_type": "code",
   "execution_count": null,
   "id": "aaf3dcba-11c1-498d-8c79-1a866af9ada9",
   "metadata": {},
   "outputs": [],
   "source": [
    "tidy_players <- players |>\n",
    "  mutate(\n",
    "    experience = factor(experience, levels = c(\"Beginner\", \"Amateur\", \"Regular\", \"Veteran\", \"Pro\"))\n",
    "  ) |>\n",
    "  select(played_hours, experience, Age) |>\n",
    "  filter(played_hours < 60, !is.na(Age))\n",
    "\n",
    "\n",
    "age_grid <- tibble(Age = seq(min(tidy_players$Age), max(tidy_players$Age), by = 1))\n",
    "\n",
    "\n",
    "predict_per_experience <- function(experience_level) {\n",
    "  \n",
    "  data_exp <- tidy_players |> filter(experience == experience_level)\n",
    "  \n",
    "  set.seed(123)\n",
    "  data_split <- initial_split(data_exp, prop = 0.75)\n",
    "  data_train <- training(data_split)\n",
    "  \n",
    "  \n",
    "  rec <- recipe(played_hours ~ Age, data = data_train) |>\n",
    "    step_impute_mean(all_predictors()) |>\n",
    "    step_normalize(all_predictors())\n",
    "  \n",
    "  spec <- nearest_neighbor(weight_func = \"rectangular\", neighbors = 5) |>  # Adjust k as needed\n",
    "    set_engine(\"kknn\") |>\n",
    "    set_mode(\"regression\")\n",
    "  \n",
    "  wf <- workflow() |>\n",
    "    add_recipe(rec) |>\n",
    "    add_model(spec)\n",
    "  \n",
    "  \n",
    "  fit <- wf |> fit(data = data_train)\n",
    "  \n",
    "  \n",
    "  preds <- fit |> predict(age_grid) |>\n",
    "    bind_cols(age_grid) |>\n",
    "    mutate(experience = experience_level)\n",
    "  \n",
    "  return(preds)\n",
    "}\n",
    "\n",
    "\n",
    "experience_levels <- levels(tidy_players$experience)\n",
    "\n",
    "\n",
    "all_preds <- map_dfr(experience_levels, predict_per_experience)\n",
    "\n",
    "\n",
    "tidy_players |> \n",
    "  ggplot(aes(x = Age, y = played_hours, color = experience)) +\n",
    "  geom_point(alpha = 0.4) +\n",
    "  geom_line(data = all_preds, aes(x = Age, y = .pred, color = experience), size = 1.2) +\n",
    "  labs(title = \"Predicted Played Hours vs Age by Experience Level (Figure 4)\",\n",
    "       x = \"Age\", y = \"Played Hours\") +\n",
    "    theme(text=element_text(size=15))"
   ]
  },
  {
   "cell_type": "markdown",
   "id": "d3aeac4d-6935-4381-af11-80c5c88de456",
   "metadata": {},
   "source": [
    "### Figure 4 ^^^\n",
    "Scatter plot with 5 different k nearest neighbor regression lines, one for each experience level"
   ]
  },
  {
   "cell_type": "markdown",
   "id": "3750fe8c-f7bb-4000-940f-5bc3fb318991",
   "metadata": {},
   "source": [
    "## Discussion\n",
    "\n",
    "#### Our results\n",
    "placeholder-----------\n",
    "\n",
    "### Expected findings vs results\n",
    "placeholder-----------\n",
    "\n",
    "### Significance\n",
    "placeholder-----------\n",
    "\n",
    "### What future questions could this lead to?\n",
    "placeholder-----------"
   ]
  },
  {
   "cell_type": "code",
   "execution_count": null,
   "id": "0ab289da-b348-4f4a-bbb7-5f57d2ee1af6",
   "metadata": {},
   "outputs": [],
   "source": []
  },
  {
   "cell_type": "code",
   "execution_count": null,
   "id": "fdef8023-2df7-4ef9-ab35-80f70769bead",
   "metadata": {},
   "outputs": [],
   "source": []
  },
  {
   "cell_type": "code",
   "execution_count": null,
   "id": "cb39b928-c9d3-44b6-8eae-7c3b54fcefad",
   "metadata": {},
   "outputs": [],
   "source": []
  },
  {
   "cell_type": "code",
   "execution_count": null,
   "id": "41f9dafe-e351-4078-b4e1-51c72f71ee1a",
   "metadata": {},
   "outputs": [],
   "source": []
  },
  {
   "cell_type": "code",
   "execution_count": null,
   "id": "43ce30c6-fe8e-480e-a808-e99d7fb2d585",
   "metadata": {},
   "outputs": [],
   "source": []
  },
  {
   "cell_type": "code",
   "execution_count": null,
   "id": "cda47e94-297a-4ad5-9a2c-cfa5d0c2747f",
   "metadata": {},
   "outputs": [],
   "source": []
  },
  {
   "cell_type": "code",
   "execution_count": null,
   "id": "b282b61a-2f2c-49ff-abc0-80eacc8e0515",
   "metadata": {},
   "outputs": [],
   "source": []
  }
 ],
 "metadata": {
  "kernelspec": {
   "display_name": "R",
   "language": "R",
   "name": "ir"
  },
  "language_info": {
   "codemirror_mode": "r",
   "file_extension": ".r",
   "mimetype": "text/x-r-source",
   "name": "R",
   "pygments_lexer": "r",
   "version": "4.3.3"
  }
 },
 "nbformat": 4,
 "nbformat_minor": 5
}
